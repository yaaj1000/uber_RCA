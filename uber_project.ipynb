{
  "cells": [
    {
      "cell_type": "markdown",
      "metadata": {
        "id": "4_YiXS6Vd-TB"
      },
      "source": [
        "Problem Statement for Project:\n",
        "\n",
        " You may have some experience of travelling to and from the airport. Have you ever used Uber or any other cab service for this travel? Did you at any time face the problem of cancellation by the driver or non-availability of cars?\n",
        "Well, if these are the problems faced by customers, these very issues also impact the business of Uber. If drivers cancel the request of riders or if cars are unavailable, Uber loses out on its revenue. Let’s hear more about such problems that Uber faces during its operations.\n",
        "As an analyst, i decide to address the problem Uber is facing - driver cancellation and non-availability of cars leading to loss of potential revenue\n",
        "\n",
        "Business Objective of Project :\n",
        "\n",
        " The primary goal of this analysis is to uncover the underlying reasons behind issues such as trip cancellations and car unavailability. Subsequently, i aim to provide actionable recommendations to enhance the current situation."
      ]
    },
    {
      "cell_type": "markdown",
      "metadata": {
        "id": "Hria8tp_Z_-3"
      },
      "source": [
        "# Loading data and knowing basic details about it.\n"
      ]
    },
    {
      "cell_type": "code",
      "execution_count": 1,
      "metadata": {
        "id": "kn_4wL7FHh-O"
      },
      "outputs": [],
      "source": [
        "# Importing necessary libraries\n",
        "import numpy as np\n",
        "import pandas as pd\n",
        "import matplotlib.pyplot as plt\n",
        "import seaborn as sns\n",
        "%matplotlib inline"
      ]
    },
    {
      "cell_type": "code",
      "execution_count": 2,
      "metadata": {
        "id": "eyvN_cXBHrgJ"
      },
      "outputs": [],
      "source": [
        "# Loading data to pandas\n",
        "df=pd.read_csv(\"uber-data.csv\")"
      ]
    },
    {
      "cell_type": "code",
      "execution_count": 3,
      "metadata": {
        "colab": {
          "base_uri": "https://localhost:8080/",
          "height": 423
        },
        "id": "FVoyftFYOt2_",
        "outputId": "aa2db2f3-2a98-40fc-ddcb-24bead013b3b"
      },
      "outputs": [
        {
          "output_type": "execute_result",
          "data": {
            "text/plain": [
              "      Request id Pickup point  Driver id             Status  \\\n",
              "0            619      Airport        1.0     Trip Completed   \n",
              "1            867      Airport        1.0     Trip Completed   \n",
              "2           1807         City        1.0     Trip Completed   \n",
              "3           2532      Airport        1.0     Trip Completed   \n",
              "4           3112         City        1.0     Trip Completed   \n",
              "...          ...          ...        ...                ...   \n",
              "6740        6745         City        NaN  No Cars Available   \n",
              "6741        6752      Airport        NaN  No Cars Available   \n",
              "6742        6751         City        NaN  No Cars Available   \n",
              "6743        6754         City        NaN  No Cars Available   \n",
              "6744        6753      Airport        NaN  No Cars Available   \n",
              "\n",
              "        Request timestamp       Drop timestamp  \n",
              "0         11/7/2016 11:51      11/7/2016 13:00  \n",
              "1         11/7/2016 17:57      11/7/2016 18:47  \n",
              "2          12/7/2016 9:17       12/7/2016 9:58  \n",
              "3         12/7/2016 21:08      12/7/2016 22:03  \n",
              "4     13-07-2016 08:33:16  13-07-2016 09:25:47  \n",
              "...                   ...                  ...  \n",
              "6740  15-07-2016 23:49:03                  NaN  \n",
              "6741  15-07-2016 23:50:05                  NaN  \n",
              "6742  15-07-2016 23:52:06                  NaN  \n",
              "6743  15-07-2016 23:54:39                  NaN  \n",
              "6744  15-07-2016 23:55:03                  NaN  \n",
              "\n",
              "[6745 rows x 6 columns]"
            ],
            "text/html": [
              "\n",
              "  <div id=\"df-36d73c90-4b4d-49e8-b615-085b02b2fddc\" class=\"colab-df-container\">\n",
              "    <div>\n",
              "<style scoped>\n",
              "    .dataframe tbody tr th:only-of-type {\n",
              "        vertical-align: middle;\n",
              "    }\n",
              "\n",
              "    .dataframe tbody tr th {\n",
              "        vertical-align: top;\n",
              "    }\n",
              "\n",
              "    .dataframe thead th {\n",
              "        text-align: right;\n",
              "    }\n",
              "</style>\n",
              "<table border=\"1\" class=\"dataframe\">\n",
              "  <thead>\n",
              "    <tr style=\"text-align: right;\">\n",
              "      <th></th>\n",
              "      <th>Request id</th>\n",
              "      <th>Pickup point</th>\n",
              "      <th>Driver id</th>\n",
              "      <th>Status</th>\n",
              "      <th>Request timestamp</th>\n",
              "      <th>Drop timestamp</th>\n",
              "    </tr>\n",
              "  </thead>\n",
              "  <tbody>\n",
              "    <tr>\n",
              "      <th>0</th>\n",
              "      <td>619</td>\n",
              "      <td>Airport</td>\n",
              "      <td>1.0</td>\n",
              "      <td>Trip Completed</td>\n",
              "      <td>11/7/2016 11:51</td>\n",
              "      <td>11/7/2016 13:00</td>\n",
              "    </tr>\n",
              "    <tr>\n",
              "      <th>1</th>\n",
              "      <td>867</td>\n",
              "      <td>Airport</td>\n",
              "      <td>1.0</td>\n",
              "      <td>Trip Completed</td>\n",
              "      <td>11/7/2016 17:57</td>\n",
              "      <td>11/7/2016 18:47</td>\n",
              "    </tr>\n",
              "    <tr>\n",
              "      <th>2</th>\n",
              "      <td>1807</td>\n",
              "      <td>City</td>\n",
              "      <td>1.0</td>\n",
              "      <td>Trip Completed</td>\n",
              "      <td>12/7/2016 9:17</td>\n",
              "      <td>12/7/2016 9:58</td>\n",
              "    </tr>\n",
              "    <tr>\n",
              "      <th>3</th>\n",
              "      <td>2532</td>\n",
              "      <td>Airport</td>\n",
              "      <td>1.0</td>\n",
              "      <td>Trip Completed</td>\n",
              "      <td>12/7/2016 21:08</td>\n",
              "      <td>12/7/2016 22:03</td>\n",
              "    </tr>\n",
              "    <tr>\n",
              "      <th>4</th>\n",
              "      <td>3112</td>\n",
              "      <td>City</td>\n",
              "      <td>1.0</td>\n",
              "      <td>Trip Completed</td>\n",
              "      <td>13-07-2016 08:33:16</td>\n",
              "      <td>13-07-2016 09:25:47</td>\n",
              "    </tr>\n",
              "    <tr>\n",
              "      <th>...</th>\n",
              "      <td>...</td>\n",
              "      <td>...</td>\n",
              "      <td>...</td>\n",
              "      <td>...</td>\n",
              "      <td>...</td>\n",
              "      <td>...</td>\n",
              "    </tr>\n",
              "    <tr>\n",
              "      <th>6740</th>\n",
              "      <td>6745</td>\n",
              "      <td>City</td>\n",
              "      <td>NaN</td>\n",
              "      <td>No Cars Available</td>\n",
              "      <td>15-07-2016 23:49:03</td>\n",
              "      <td>NaN</td>\n",
              "    </tr>\n",
              "    <tr>\n",
              "      <th>6741</th>\n",
              "      <td>6752</td>\n",
              "      <td>Airport</td>\n",
              "      <td>NaN</td>\n",
              "      <td>No Cars Available</td>\n",
              "      <td>15-07-2016 23:50:05</td>\n",
              "      <td>NaN</td>\n",
              "    </tr>\n",
              "    <tr>\n",
              "      <th>6742</th>\n",
              "      <td>6751</td>\n",
              "      <td>City</td>\n",
              "      <td>NaN</td>\n",
              "      <td>No Cars Available</td>\n",
              "      <td>15-07-2016 23:52:06</td>\n",
              "      <td>NaN</td>\n",
              "    </tr>\n",
              "    <tr>\n",
              "      <th>6743</th>\n",
              "      <td>6754</td>\n",
              "      <td>City</td>\n",
              "      <td>NaN</td>\n",
              "      <td>No Cars Available</td>\n",
              "      <td>15-07-2016 23:54:39</td>\n",
              "      <td>NaN</td>\n",
              "    </tr>\n",
              "    <tr>\n",
              "      <th>6744</th>\n",
              "      <td>6753</td>\n",
              "      <td>Airport</td>\n",
              "      <td>NaN</td>\n",
              "      <td>No Cars Available</td>\n",
              "      <td>15-07-2016 23:55:03</td>\n",
              "      <td>NaN</td>\n",
              "    </tr>\n",
              "  </tbody>\n",
              "</table>\n",
              "<p>6745 rows × 6 columns</p>\n",
              "</div>\n",
              "    <div class=\"colab-df-buttons\">\n",
              "\n",
              "  <div class=\"colab-df-container\">\n",
              "    <button class=\"colab-df-convert\" onclick=\"convertToInteractive('df-36d73c90-4b4d-49e8-b615-085b02b2fddc')\"\n",
              "            title=\"Convert this dataframe to an interactive table.\"\n",
              "            style=\"display:none;\">\n",
              "\n",
              "  <svg xmlns=\"http://www.w3.org/2000/svg\" height=\"24px\" viewBox=\"0 -960 960 960\">\n",
              "    <path d=\"M120-120v-720h720v720H120Zm60-500h600v-160H180v160Zm220 220h160v-160H400v160Zm0 220h160v-160H400v160ZM180-400h160v-160H180v160Zm440 0h160v-160H620v160ZM180-180h160v-160H180v160Zm440 0h160v-160H620v160Z\"/>\n",
              "  </svg>\n",
              "    </button>\n",
              "\n",
              "  <style>\n",
              "    .colab-df-container {\n",
              "      display:flex;\n",
              "      gap: 12px;\n",
              "    }\n",
              "\n",
              "    .colab-df-convert {\n",
              "      background-color: #E8F0FE;\n",
              "      border: none;\n",
              "      border-radius: 50%;\n",
              "      cursor: pointer;\n",
              "      display: none;\n",
              "      fill: #1967D2;\n",
              "      height: 32px;\n",
              "      padding: 0 0 0 0;\n",
              "      width: 32px;\n",
              "    }\n",
              "\n",
              "    .colab-df-convert:hover {\n",
              "      background-color: #E2EBFA;\n",
              "      box-shadow: 0px 1px 2px rgba(60, 64, 67, 0.3), 0px 1px 3px 1px rgba(60, 64, 67, 0.15);\n",
              "      fill: #174EA6;\n",
              "    }\n",
              "\n",
              "    .colab-df-buttons div {\n",
              "      margin-bottom: 4px;\n",
              "    }\n",
              "\n",
              "    [theme=dark] .colab-df-convert {\n",
              "      background-color: #3B4455;\n",
              "      fill: #D2E3FC;\n",
              "    }\n",
              "\n",
              "    [theme=dark] .colab-df-convert:hover {\n",
              "      background-color: #434B5C;\n",
              "      box-shadow: 0px 1px 3px 1px rgba(0, 0, 0, 0.15);\n",
              "      filter: drop-shadow(0px 1px 2px rgba(0, 0, 0, 0.3));\n",
              "      fill: #FFFFFF;\n",
              "    }\n",
              "  </style>\n",
              "\n",
              "    <script>\n",
              "      const buttonEl =\n",
              "        document.querySelector('#df-36d73c90-4b4d-49e8-b615-085b02b2fddc button.colab-df-convert');\n",
              "      buttonEl.style.display =\n",
              "        google.colab.kernel.accessAllowed ? 'block' : 'none';\n",
              "\n",
              "      async function convertToInteractive(key) {\n",
              "        const element = document.querySelector('#df-36d73c90-4b4d-49e8-b615-085b02b2fddc');\n",
              "        const dataTable =\n",
              "          await google.colab.kernel.invokeFunction('convertToInteractive',\n",
              "                                                    [key], {});\n",
              "        if (!dataTable) return;\n",
              "\n",
              "        const docLinkHtml = 'Like what you see? Visit the ' +\n",
              "          '<a target=\"_blank\" href=https://colab.research.google.com/notebooks/data_table.ipynb>data table notebook</a>'\n",
              "          + ' to learn more about interactive tables.';\n",
              "        element.innerHTML = '';\n",
              "        dataTable['output_type'] = 'display_data';\n",
              "        await google.colab.output.renderOutput(dataTable, element);\n",
              "        const docLink = document.createElement('div');\n",
              "        docLink.innerHTML = docLinkHtml;\n",
              "        element.appendChild(docLink);\n",
              "      }\n",
              "    </script>\n",
              "  </div>\n",
              "\n",
              "\n",
              "<div id=\"df-457bf97f-97a1-423a-b602-34c6dd2c4193\">\n",
              "  <button class=\"colab-df-quickchart\" onclick=\"quickchart('df-457bf97f-97a1-423a-b602-34c6dd2c4193')\"\n",
              "            title=\"Suggest charts.\"\n",
              "            style=\"display:none;\">\n",
              "\n",
              "<svg xmlns=\"http://www.w3.org/2000/svg\" height=\"24px\"viewBox=\"0 0 24 24\"\n",
              "     width=\"24px\">\n",
              "    <g>\n",
              "        <path d=\"M19 3H5c-1.1 0-2 .9-2 2v14c0 1.1.9 2 2 2h14c1.1 0 2-.9 2-2V5c0-1.1-.9-2-2-2zM9 17H7v-7h2v7zm4 0h-2V7h2v10zm4 0h-2v-4h2v4z\"/>\n",
              "    </g>\n",
              "</svg>\n",
              "  </button>\n",
              "\n",
              "<style>\n",
              "  .colab-df-quickchart {\n",
              "      --bg-color: #E8F0FE;\n",
              "      --fill-color: #1967D2;\n",
              "      --hover-bg-color: #E2EBFA;\n",
              "      --hover-fill-color: #174EA6;\n",
              "      --disabled-fill-color: #AAA;\n",
              "      --disabled-bg-color: #DDD;\n",
              "  }\n",
              "\n",
              "  [theme=dark] .colab-df-quickchart {\n",
              "      --bg-color: #3B4455;\n",
              "      --fill-color: #D2E3FC;\n",
              "      --hover-bg-color: #434B5C;\n",
              "      --hover-fill-color: #FFFFFF;\n",
              "      --disabled-bg-color: #3B4455;\n",
              "      --disabled-fill-color: #666;\n",
              "  }\n",
              "\n",
              "  .colab-df-quickchart {\n",
              "    background-color: var(--bg-color);\n",
              "    border: none;\n",
              "    border-radius: 50%;\n",
              "    cursor: pointer;\n",
              "    display: none;\n",
              "    fill: var(--fill-color);\n",
              "    height: 32px;\n",
              "    padding: 0;\n",
              "    width: 32px;\n",
              "  }\n",
              "\n",
              "  .colab-df-quickchart:hover {\n",
              "    background-color: var(--hover-bg-color);\n",
              "    box-shadow: 0 1px 2px rgba(60, 64, 67, 0.3), 0 1px 3px 1px rgba(60, 64, 67, 0.15);\n",
              "    fill: var(--button-hover-fill-color);\n",
              "  }\n",
              "\n",
              "  .colab-df-quickchart-complete:disabled,\n",
              "  .colab-df-quickchart-complete:disabled:hover {\n",
              "    background-color: var(--disabled-bg-color);\n",
              "    fill: var(--disabled-fill-color);\n",
              "    box-shadow: none;\n",
              "  }\n",
              "\n",
              "  .colab-df-spinner {\n",
              "    border: 2px solid var(--fill-color);\n",
              "    border-color: transparent;\n",
              "    border-bottom-color: var(--fill-color);\n",
              "    animation:\n",
              "      spin 1s steps(1) infinite;\n",
              "  }\n",
              "\n",
              "  @keyframes spin {\n",
              "    0% {\n",
              "      border-color: transparent;\n",
              "      border-bottom-color: var(--fill-color);\n",
              "      border-left-color: var(--fill-color);\n",
              "    }\n",
              "    20% {\n",
              "      border-color: transparent;\n",
              "      border-left-color: var(--fill-color);\n",
              "      border-top-color: var(--fill-color);\n",
              "    }\n",
              "    30% {\n",
              "      border-color: transparent;\n",
              "      border-left-color: var(--fill-color);\n",
              "      border-top-color: var(--fill-color);\n",
              "      border-right-color: var(--fill-color);\n",
              "    }\n",
              "    40% {\n",
              "      border-color: transparent;\n",
              "      border-right-color: var(--fill-color);\n",
              "      border-top-color: var(--fill-color);\n",
              "    }\n",
              "    60% {\n",
              "      border-color: transparent;\n",
              "      border-right-color: var(--fill-color);\n",
              "    }\n",
              "    80% {\n",
              "      border-color: transparent;\n",
              "      border-right-color: var(--fill-color);\n",
              "      border-bottom-color: var(--fill-color);\n",
              "    }\n",
              "    90% {\n",
              "      border-color: transparent;\n",
              "      border-bottom-color: var(--fill-color);\n",
              "    }\n",
              "  }\n",
              "</style>\n",
              "\n",
              "  <script>\n",
              "    async function quickchart(key) {\n",
              "      const quickchartButtonEl =\n",
              "        document.querySelector('#' + key + ' button');\n",
              "      quickchartButtonEl.disabled = true;  // To prevent multiple clicks.\n",
              "      quickchartButtonEl.classList.add('colab-df-spinner');\n",
              "      try {\n",
              "        const charts = await google.colab.kernel.invokeFunction(\n",
              "            'suggestCharts', [key], {});\n",
              "      } catch (error) {\n",
              "        console.error('Error during call to suggestCharts:', error);\n",
              "      }\n",
              "      quickchartButtonEl.classList.remove('colab-df-spinner');\n",
              "      quickchartButtonEl.classList.add('colab-df-quickchart-complete');\n",
              "    }\n",
              "    (() => {\n",
              "      let quickchartButtonEl =\n",
              "        document.querySelector('#df-457bf97f-97a1-423a-b602-34c6dd2c4193 button');\n",
              "      quickchartButtonEl.style.display =\n",
              "        google.colab.kernel.accessAllowed ? 'block' : 'none';\n",
              "    })();\n",
              "  </script>\n",
              "</div>\n",
              "    </div>\n",
              "  </div>\n"
            ]
          },
          "metadata": {},
          "execution_count": 3
        }
      ],
      "source": [
        "df"
      ]
    },
    {
      "cell_type": "code",
      "execution_count": 4,
      "metadata": {
        "colab": {
          "base_uri": "https://localhost:8080/"
        },
        "id": "3ebH36YSTTmH",
        "outputId": "5bd5f138-1ccd-4a07-cc54-a437821ddd1a"
      },
      "outputs": [
        {
          "output_type": "stream",
          "name": "stdout",
          "text": [
            "No. of rows: 6745\n",
            "No. of cols: 6\n"
          ]
        }
      ],
      "source": [
        "# checking no pf row na column\n",
        "print(\"No. of rows: {}\".format(df.shape[0]))\n",
        "print(\"No. of cols: {}\".format(df.shape[1]))"
      ]
    },
    {
      "cell_type": "code",
      "execution_count": 5,
      "metadata": {
        "colab": {
          "base_uri": "https://localhost:8080/"
        },
        "id": "-hO8SRnIOusB",
        "outputId": "b036fd9b-8cfc-4534-afde-32f20a877dc8"
      },
      "outputs": [
        {
          "output_type": "stream",
          "name": "stdout",
          "text": [
            "<class 'pandas.core.frame.DataFrame'>\n",
            "RangeIndex: 6745 entries, 0 to 6744\n",
            "Data columns (total 6 columns):\n",
            " #   Column             Non-Null Count  Dtype  \n",
            "---  ------             --------------  -----  \n",
            " 0   Request id         6745 non-null   int64  \n",
            " 1   Pickup point       6745 non-null   object \n",
            " 2   Driver id          4095 non-null   float64\n",
            " 3   Status             6745 non-null   object \n",
            " 4   Request timestamp  6745 non-null   object \n",
            " 5   Drop timestamp     2831 non-null   object \n",
            "dtypes: float64(1), int64(1), object(4)\n",
            "memory usage: 316.3+ KB\n"
          ]
        }
      ],
      "source": [
        "# Necessary infromation about columns and there values\n",
        "df.info()"
      ]
    },
    {
      "cell_type": "markdown",
      "metadata": {
        "id": "BuQwKVnHU5pM"
      },
      "source": [
        "Shape: It has 6745 rows and 6 columns.\n",
        "\n",
        "Columns:\n",
        "\n",
        "Request id: This column contains integer values and has no missing values. It's an identifier for requests.\n",
        "\n",
        "Pickup point: This column contains categorical data (object dtype) and has no missing values. It represents the location where a pickup is requested.\n",
        "\n",
        "Driver id: This column contains float64 values and has missing values (NaNs) in some rows. It represent the identifier of the driver assigned to the request.\n",
        "\n",
        "Status: This column contains categorical data (object dtype) and has no missing values. It represents the status of the ride request.\n",
        "\n",
        "Request timestamp: This column contains datetime data represented as strings (object dtype) and has no missing values. It represents the timestamp when the ride was requested.\n",
        "\n",
        "Drop timestamp: This column contains datetime data represented as strings (object dtype) and has missing values (NaNs) in some rows. It represents the timestamp when the ride was completed or dropped off.\n",
        "\n",
        "Memory Usage: The DataFrame consumes approximately 316.3 KB of memory.\n",
        "\n",
        "Data Types:\n",
        "\n",
        "Integer (int64): Used for the \"Request id\" column.\n",
        "\n",
        "Float (float64): Used for the \"Driver id\" column.\n",
        "\n",
        "Object (object): Used for the \"Pickup point,\" \"Status,\" \"Request timestamp,\" and \"Drop timestamp\" columns, indicating that these columns contain non-numeric (categorical or datetime) data.\n",
        "\n",
        "Overall, this DataFrame appears to contain information related to ride requests, including details such as pickup points, driver IDs, status, and timestamps for both request and drop-off times. It's important to note that there are missing values in the \"Driver id\" and \"Drop timestamp\" columns that may need to be addressed depending on the analysis.\n",
        "\n",
        "Request timestamp and drop timestamp type needs to be changed pandas datetime.\n",
        "\n"
      ]
    },
    {
      "cell_type": "code",
      "execution_count": 6,
      "metadata": {
        "colab": {
          "base_uri": "https://localhost:8080/"
        },
        "id": "SqkRgGTjT7r5",
        "outputId": "6136731b-63dc-4867-bffd-903b0f87c9d4"
      },
      "outputs": [
        {
          "output_type": "execute_result",
          "data": {
            "text/plain": [
              "0"
            ]
          },
          "metadata": {},
          "execution_count": 6
        }
      ],
      "source": [
        "# checking for duplicates\n",
        "df.duplicated().sum()"
      ]
    },
    {
      "cell_type": "markdown",
      "metadata": {
        "id": "Rs15j1NyUJlj"
      },
      "source": [
        "This confirms that there is no duplicates row in the data."
      ]
    },
    {
      "cell_type": "code",
      "execution_count": 7,
      "metadata": {
        "colab": {
          "base_uri": "https://localhost:8080/"
        },
        "id": "qvHhev4VO_ZC",
        "outputId": "e75ae83c-b261-4e42-a8d5-dbc441b9608f"
      },
      "outputs": [
        {
          "output_type": "execute_result",
          "data": {
            "text/plain": [
              "Request id            0.000000\n",
              "Pickup point          0.000000\n",
              "Driver id            39.288362\n",
              "Status                0.000000\n",
              "Request timestamp     0.000000\n",
              "Drop timestamp       58.028169\n",
              "dtype: float64"
            ]
          },
          "metadata": {},
          "execution_count": 7
        }
      ],
      "source": [
        "df.isnull().sum()/len(df)*100"
      ]
    },
    {
      "cell_type": "markdown",
      "metadata": {
        "id": "y7vaTe09VlUC"
      },
      "source": [
        "Driver id column has 39% missing values.\n",
        "Drop Timestamp has 58% missing values."
      ]
    },
    {
      "cell_type": "code",
      "execution_count": 8,
      "metadata": {
        "colab": {
          "base_uri": "https://localhost:8080/"
        },
        "id": "IffSHHC5UxgG",
        "outputId": "1b15cc60-6a77-4ce2-cce9-026806d751fa"
      },
      "outputs": [
        {
          "output_type": "stream",
          "name": "stdout",
          "text": [
            "Unique values of status coulumn - ['Trip Completed' 'Cancelled' 'No Cars Available']\n",
            "Unique values of Pickup point coulumn - ['Airport' 'City']\n"
          ]
        }
      ],
      "source": [
        "# Checking for any abnormal value.\n",
        "\n",
        "print(\"Unique values of status coulumn - {}\".format(df['Status'].unique()))\n",
        "print(\"Unique values of Pickup point coulumn - {}\".format(df['Pickup point'].unique()))"
      ]
    },
    {
      "cell_type": "markdown",
      "metadata": {
        "id": "ccFQLXaEa4ov"
      },
      "source": [
        "# Data cleaning and transforming\n"
      ]
    },
    {
      "cell_type": "code",
      "execution_count": 9,
      "metadata": {
        "id": "eanqcCERdZht"
      },
      "outputs": [],
      "source": [
        "# Changing request timestamp and drop time stamp type to pandas date time.\n",
        "df['Request timestamp']=pd.to_datetime(df['Request timestamp'])\n",
        "df['Drop timestamp']=pd.to_datetime(df['Drop timestamp'])"
      ]
    },
    {
      "cell_type": "code",
      "execution_count": 10,
      "metadata": {
        "id": "OautuY7MfZuY"
      },
      "outputs": [],
      "source": [
        "# Getting hour and day of week extracted from datetime column\n",
        "df['Request hour']=df['Request timestamp'].dt.hour\n",
        "df['Drop hour']=df['Drop timestamp'].dt.hour\n",
        "df['Day of week']=df['Request timestamp'].dt.dayofweek\n",
        "df['Request date'] = df['Request timestamp'].dt.date\n",
        "\n",
        "# Changing day of week values to days\n",
        "mapping={0:'Monday',1:'Tuesday',2:'Wednesday',3:'Thursday',4:'Friday',5:'Saturday',6:'Sunday'}\n",
        "df['Day of week']=df['Day of week'].map(mapping)\n",
        "\n",
        "# Naming time of day using Pickup hour column\n",
        "df[\"TimeSlot\"] = df[\"Request hour\"].apply(lambda x: \"Dawn\" if x<=4 else (\"Early Morning\"\n",
        "                                                                        if x<=9 else (\"Noon\"\n",
        "                                                                                      if x<=16 else (\"Late Evening\"\n",
        "                                                                                                     if x<=21 else \"Night\"))))\n",
        "df['Ride duration']=df['Drop hour']-df['Request hour']\n"
      ]
    },
    {
      "cell_type": "code",
      "execution_count": 11,
      "metadata": {
        "id": "LL0ZKn7txASH"
      },
      "outputs": [],
      "source": [
        "df.drop(columns=['Request timestamp','Drop timestamp'],inplace=True)"
      ]
    },
    {
      "cell_type": "code",
      "execution_count": 12,
      "metadata": {
        "colab": {
          "base_uri": "https://localhost:8080/",
          "height": 175
        },
        "id": "F-jgYnRivpuP",
        "outputId": "8fdb96f9-b928-414c-a700-edd78ef8fafc"
      },
      "outputs": [
        {
          "output_type": "execute_result",
          "data": {
            "text/plain": [
              "                   Request id  Pickup point  Driver id  Request hour  \\\n",
              "Status                                                                 \n",
              "Cancelled                1264          1264       1264          1264   \n",
              "No Cars Available        2650          2650          0          2650   \n",
              "Trip Completed           2831          2831       2831          2831   \n",
              "\n",
              "                   Drop hour  Day of week  Request date  TimeSlot  \\\n",
              "Status                                                              \n",
              "Cancelled                  0         1264          1264      1264   \n",
              "No Cars Available          0         2650          2650      2650   \n",
              "Trip Completed          2831         2831          2831      2831   \n",
              "\n",
              "                   Ride duration  \n",
              "Status                            \n",
              "Cancelled                      0  \n",
              "No Cars Available              0  \n",
              "Trip Completed              2831  "
            ],
            "text/html": [
              "\n",
              "  <div id=\"df-1a2086d9-5dd1-4b37-8338-bb694f1747ce\" class=\"colab-df-container\">\n",
              "    <div>\n",
              "<style scoped>\n",
              "    .dataframe tbody tr th:only-of-type {\n",
              "        vertical-align: middle;\n",
              "    }\n",
              "\n",
              "    .dataframe tbody tr th {\n",
              "        vertical-align: top;\n",
              "    }\n",
              "\n",
              "    .dataframe thead th {\n",
              "        text-align: right;\n",
              "    }\n",
              "</style>\n",
              "<table border=\"1\" class=\"dataframe\">\n",
              "  <thead>\n",
              "    <tr style=\"text-align: right;\">\n",
              "      <th></th>\n",
              "      <th>Request id</th>\n",
              "      <th>Pickup point</th>\n",
              "      <th>Driver id</th>\n",
              "      <th>Request hour</th>\n",
              "      <th>Drop hour</th>\n",
              "      <th>Day of week</th>\n",
              "      <th>Request date</th>\n",
              "      <th>TimeSlot</th>\n",
              "      <th>Ride duration</th>\n",
              "    </tr>\n",
              "    <tr>\n",
              "      <th>Status</th>\n",
              "      <th></th>\n",
              "      <th></th>\n",
              "      <th></th>\n",
              "      <th></th>\n",
              "      <th></th>\n",
              "      <th></th>\n",
              "      <th></th>\n",
              "      <th></th>\n",
              "      <th></th>\n",
              "    </tr>\n",
              "  </thead>\n",
              "  <tbody>\n",
              "    <tr>\n",
              "      <th>Cancelled</th>\n",
              "      <td>1264</td>\n",
              "      <td>1264</td>\n",
              "      <td>1264</td>\n",
              "      <td>1264</td>\n",
              "      <td>0</td>\n",
              "      <td>1264</td>\n",
              "      <td>1264</td>\n",
              "      <td>1264</td>\n",
              "      <td>0</td>\n",
              "    </tr>\n",
              "    <tr>\n",
              "      <th>No Cars Available</th>\n",
              "      <td>2650</td>\n",
              "      <td>2650</td>\n",
              "      <td>0</td>\n",
              "      <td>2650</td>\n",
              "      <td>0</td>\n",
              "      <td>2650</td>\n",
              "      <td>2650</td>\n",
              "      <td>2650</td>\n",
              "      <td>0</td>\n",
              "    </tr>\n",
              "    <tr>\n",
              "      <th>Trip Completed</th>\n",
              "      <td>2831</td>\n",
              "      <td>2831</td>\n",
              "      <td>2831</td>\n",
              "      <td>2831</td>\n",
              "      <td>2831</td>\n",
              "      <td>2831</td>\n",
              "      <td>2831</td>\n",
              "      <td>2831</td>\n",
              "      <td>2831</td>\n",
              "    </tr>\n",
              "  </tbody>\n",
              "</table>\n",
              "</div>\n",
              "    <div class=\"colab-df-buttons\">\n",
              "\n",
              "  <div class=\"colab-df-container\">\n",
              "    <button class=\"colab-df-convert\" onclick=\"convertToInteractive('df-1a2086d9-5dd1-4b37-8338-bb694f1747ce')\"\n",
              "            title=\"Convert this dataframe to an interactive table.\"\n",
              "            style=\"display:none;\">\n",
              "\n",
              "  <svg xmlns=\"http://www.w3.org/2000/svg\" height=\"24px\" viewBox=\"0 -960 960 960\">\n",
              "    <path d=\"M120-120v-720h720v720H120Zm60-500h600v-160H180v160Zm220 220h160v-160H400v160Zm0 220h160v-160H400v160ZM180-400h160v-160H180v160Zm440 0h160v-160H620v160ZM180-180h160v-160H180v160Zm440 0h160v-160H620v160Z\"/>\n",
              "  </svg>\n",
              "    </button>\n",
              "\n",
              "  <style>\n",
              "    .colab-df-container {\n",
              "      display:flex;\n",
              "      gap: 12px;\n",
              "    }\n",
              "\n",
              "    .colab-df-convert {\n",
              "      background-color: #E8F0FE;\n",
              "      border: none;\n",
              "      border-radius: 50%;\n",
              "      cursor: pointer;\n",
              "      display: none;\n",
              "      fill: #1967D2;\n",
              "      height: 32px;\n",
              "      padding: 0 0 0 0;\n",
              "      width: 32px;\n",
              "    }\n",
              "\n",
              "    .colab-df-convert:hover {\n",
              "      background-color: #E2EBFA;\n",
              "      box-shadow: 0px 1px 2px rgba(60, 64, 67, 0.3), 0px 1px 3px 1px rgba(60, 64, 67, 0.15);\n",
              "      fill: #174EA6;\n",
              "    }\n",
              "\n",
              "    .colab-df-buttons div {\n",
              "      margin-bottom: 4px;\n",
              "    }\n",
              "\n",
              "    [theme=dark] .colab-df-convert {\n",
              "      background-color: #3B4455;\n",
              "      fill: #D2E3FC;\n",
              "    }\n",
              "\n",
              "    [theme=dark] .colab-df-convert:hover {\n",
              "      background-color: #434B5C;\n",
              "      box-shadow: 0px 1px 3px 1px rgba(0, 0, 0, 0.15);\n",
              "      filter: drop-shadow(0px 1px 2px rgba(0, 0, 0, 0.3));\n",
              "      fill: #FFFFFF;\n",
              "    }\n",
              "  </style>\n",
              "\n",
              "    <script>\n",
              "      const buttonEl =\n",
              "        document.querySelector('#df-1a2086d9-5dd1-4b37-8338-bb694f1747ce button.colab-df-convert');\n",
              "      buttonEl.style.display =\n",
              "        google.colab.kernel.accessAllowed ? 'block' : 'none';\n",
              "\n",
              "      async function convertToInteractive(key) {\n",
              "        const element = document.querySelector('#df-1a2086d9-5dd1-4b37-8338-bb694f1747ce');\n",
              "        const dataTable =\n",
              "          await google.colab.kernel.invokeFunction('convertToInteractive',\n",
              "                                                    [key], {});\n",
              "        if (!dataTable) return;\n",
              "\n",
              "        const docLinkHtml = 'Like what you see? Visit the ' +\n",
              "          '<a target=\"_blank\" href=https://colab.research.google.com/notebooks/data_table.ipynb>data table notebook</a>'\n",
              "          + ' to learn more about interactive tables.';\n",
              "        element.innerHTML = '';\n",
              "        dataTable['output_type'] = 'display_data';\n",
              "        await google.colab.output.renderOutput(dataTable, element);\n",
              "        const docLink = document.createElement('div');\n",
              "        docLink.innerHTML = docLinkHtml;\n",
              "        element.appendChild(docLink);\n",
              "      }\n",
              "    </script>\n",
              "  </div>\n",
              "\n",
              "\n",
              "<div id=\"df-eb9fae6b-d52c-496b-8b8a-2341438ce3a0\">\n",
              "  <button class=\"colab-df-quickchart\" onclick=\"quickchart('df-eb9fae6b-d52c-496b-8b8a-2341438ce3a0')\"\n",
              "            title=\"Suggest charts.\"\n",
              "            style=\"display:none;\">\n",
              "\n",
              "<svg xmlns=\"http://www.w3.org/2000/svg\" height=\"24px\"viewBox=\"0 0 24 24\"\n",
              "     width=\"24px\">\n",
              "    <g>\n",
              "        <path d=\"M19 3H5c-1.1 0-2 .9-2 2v14c0 1.1.9 2 2 2h14c1.1 0 2-.9 2-2V5c0-1.1-.9-2-2-2zM9 17H7v-7h2v7zm4 0h-2V7h2v10zm4 0h-2v-4h2v4z\"/>\n",
              "    </g>\n",
              "</svg>\n",
              "  </button>\n",
              "\n",
              "<style>\n",
              "  .colab-df-quickchart {\n",
              "      --bg-color: #E8F0FE;\n",
              "      --fill-color: #1967D2;\n",
              "      --hover-bg-color: #E2EBFA;\n",
              "      --hover-fill-color: #174EA6;\n",
              "      --disabled-fill-color: #AAA;\n",
              "      --disabled-bg-color: #DDD;\n",
              "  }\n",
              "\n",
              "  [theme=dark] .colab-df-quickchart {\n",
              "      --bg-color: #3B4455;\n",
              "      --fill-color: #D2E3FC;\n",
              "      --hover-bg-color: #434B5C;\n",
              "      --hover-fill-color: #FFFFFF;\n",
              "      --disabled-bg-color: #3B4455;\n",
              "      --disabled-fill-color: #666;\n",
              "  }\n",
              "\n",
              "  .colab-df-quickchart {\n",
              "    background-color: var(--bg-color);\n",
              "    border: none;\n",
              "    border-radius: 50%;\n",
              "    cursor: pointer;\n",
              "    display: none;\n",
              "    fill: var(--fill-color);\n",
              "    height: 32px;\n",
              "    padding: 0;\n",
              "    width: 32px;\n",
              "  }\n",
              "\n",
              "  .colab-df-quickchart:hover {\n",
              "    background-color: var(--hover-bg-color);\n",
              "    box-shadow: 0 1px 2px rgba(60, 64, 67, 0.3), 0 1px 3px 1px rgba(60, 64, 67, 0.15);\n",
              "    fill: var(--button-hover-fill-color);\n",
              "  }\n",
              "\n",
              "  .colab-df-quickchart-complete:disabled,\n",
              "  .colab-df-quickchart-complete:disabled:hover {\n",
              "    background-color: var(--disabled-bg-color);\n",
              "    fill: var(--disabled-fill-color);\n",
              "    box-shadow: none;\n",
              "  }\n",
              "\n",
              "  .colab-df-spinner {\n",
              "    border: 2px solid var(--fill-color);\n",
              "    border-color: transparent;\n",
              "    border-bottom-color: var(--fill-color);\n",
              "    animation:\n",
              "      spin 1s steps(1) infinite;\n",
              "  }\n",
              "\n",
              "  @keyframes spin {\n",
              "    0% {\n",
              "      border-color: transparent;\n",
              "      border-bottom-color: var(--fill-color);\n",
              "      border-left-color: var(--fill-color);\n",
              "    }\n",
              "    20% {\n",
              "      border-color: transparent;\n",
              "      border-left-color: var(--fill-color);\n",
              "      border-top-color: var(--fill-color);\n",
              "    }\n",
              "    30% {\n",
              "      border-color: transparent;\n",
              "      border-left-color: var(--fill-color);\n",
              "      border-top-color: var(--fill-color);\n",
              "      border-right-color: var(--fill-color);\n",
              "    }\n",
              "    40% {\n",
              "      border-color: transparent;\n",
              "      border-right-color: var(--fill-color);\n",
              "      border-top-color: var(--fill-color);\n",
              "    }\n",
              "    60% {\n",
              "      border-color: transparent;\n",
              "      border-right-color: var(--fill-color);\n",
              "    }\n",
              "    80% {\n",
              "      border-color: transparent;\n",
              "      border-right-color: var(--fill-color);\n",
              "      border-bottom-color: var(--fill-color);\n",
              "    }\n",
              "    90% {\n",
              "      border-color: transparent;\n",
              "      border-bottom-color: var(--fill-color);\n",
              "    }\n",
              "  }\n",
              "</style>\n",
              "\n",
              "  <script>\n",
              "    async function quickchart(key) {\n",
              "      const quickchartButtonEl =\n",
              "        document.querySelector('#' + key + ' button');\n",
              "      quickchartButtonEl.disabled = true;  // To prevent multiple clicks.\n",
              "      quickchartButtonEl.classList.add('colab-df-spinner');\n",
              "      try {\n",
              "        const charts = await google.colab.kernel.invokeFunction(\n",
              "            'suggestCharts', [key], {});\n",
              "      } catch (error) {\n",
              "        console.error('Error during call to suggestCharts:', error);\n",
              "      }\n",
              "      quickchartButtonEl.classList.remove('colab-df-spinner');\n",
              "      quickchartButtonEl.classList.add('colab-df-quickchart-complete');\n",
              "    }\n",
              "    (() => {\n",
              "      let quickchartButtonEl =\n",
              "        document.querySelector('#df-eb9fae6b-d52c-496b-8b8a-2341438ce3a0 button');\n",
              "      quickchartButtonEl.style.display =\n",
              "        google.colab.kernel.accessAllowed ? 'block' : 'none';\n",
              "    })();\n",
              "  </script>\n",
              "</div>\n",
              "    </div>\n",
              "  </div>\n"
            ]
          },
          "metadata": {},
          "execution_count": 12
        }
      ],
      "source": [
        "# Checking where are these missing values\n",
        "df.groupby('Status').count()"
      ]
    },
    {
      "cell_type": "markdown",
      "metadata": {
        "id": "swFp8XadwQo2"
      },
      "source": [
        "In case of cancelled  drop hour and ride duration is 0 as ride is cancelled so there will be no drop time.\n",
        "\n",
        "In case of No cars avaolable driver id is not present as no car is available and so there will no drop hour and ride duration for this status.\n",
        "\n",
        "So, can make a  assumption that there are no missing data in this dataset and we can now move to analysis\n",
        "\n",
        "\n"
      ]
    },
    {
      "cell_type": "code",
      "execution_count": 13,
      "metadata": {
        "id": "NYFy9Ds6v-C3"
      },
      "outputs": [],
      "source": [
        "# Replacing null values in driver id , drop hour and ride duration.\n",
        "df['Driver id'].fillna('Unknown',inplace=True)\n",
        "df['Drop hour'].fillna('NA',inplace=True)\n",
        "df['Ride duration'].fillna('NA',inplace=True)"
      ]
    },
    {
      "cell_type": "code",
      "execution_count": 14,
      "metadata": {
        "colab": {
          "base_uri": "https://localhost:8080/",
          "height": 363
        },
        "id": "i5Izj96R1SWW",
        "outputId": "d0c37f43-5316-4deb-a12d-4ad577bf17c0"
      },
      "outputs": [
        {
          "output_type": "execute_result",
          "data": {
            "text/plain": [
              "      Request id Pickup point Driver id             Status  Request hour  \\\n",
              "5983        5092      Airport   Unknown  No Cars Available            19   \n",
              "2535        5825      Airport     267.0     Trip Completed             8   \n",
              "4279         767         City   Unknown  No Cars Available            16   \n",
              "2882        4580         City      16.0          Cancelled             9   \n",
              "3589        2119         City     181.0          Cancelled            16   \n",
              "3116        5644         City      70.0          Cancelled             6   \n",
              "4962        2409      Airport   Unknown  No Cars Available            20   \n",
              "5492        3816      Airport   Unknown  No Cars Available            21   \n",
              "3241        2459      Airport     101.0          Cancelled            20   \n",
              "3191         432         City      89.0          Cancelled             8   \n",
              "\n",
              "     Drop hour Day of week Request date       TimeSlot Ride duration  \n",
              "5983        NA    Thursday   2016-07-14   Late Evening            NA  \n",
              "2535       9.0      Friday   2016-07-15  Early Morning           1.0  \n",
              "4279        NA      Monday   2016-11-07           Noon            NA  \n",
              "2882        NA    Thursday   2016-07-14  Early Morning            NA  \n",
              "3589        NA   Wednesday   2016-12-07           Noon            NA  \n",
              "3116        NA      Friday   2016-07-15  Early Morning            NA  \n",
              "4962        NA   Wednesday   2016-12-07   Late Evening            NA  \n",
              "5492        NA   Wednesday   2016-07-13   Late Evening            NA  \n",
              "3241        NA   Wednesday   2016-12-07   Late Evening            NA  \n",
              "3191        NA      Monday   2016-11-07  Early Morning            NA  "
            ],
            "text/html": [
              "\n",
              "  <div id=\"df-02c5f31b-3131-46e1-a287-9c6ddfbfbe51\" class=\"colab-df-container\">\n",
              "    <div>\n",
              "<style scoped>\n",
              "    .dataframe tbody tr th:only-of-type {\n",
              "        vertical-align: middle;\n",
              "    }\n",
              "\n",
              "    .dataframe tbody tr th {\n",
              "        vertical-align: top;\n",
              "    }\n",
              "\n",
              "    .dataframe thead th {\n",
              "        text-align: right;\n",
              "    }\n",
              "</style>\n",
              "<table border=\"1\" class=\"dataframe\">\n",
              "  <thead>\n",
              "    <tr style=\"text-align: right;\">\n",
              "      <th></th>\n",
              "      <th>Request id</th>\n",
              "      <th>Pickup point</th>\n",
              "      <th>Driver id</th>\n",
              "      <th>Status</th>\n",
              "      <th>Request hour</th>\n",
              "      <th>Drop hour</th>\n",
              "      <th>Day of week</th>\n",
              "      <th>Request date</th>\n",
              "      <th>TimeSlot</th>\n",
              "      <th>Ride duration</th>\n",
              "    </tr>\n",
              "  </thead>\n",
              "  <tbody>\n",
              "    <tr>\n",
              "      <th>5983</th>\n",
              "      <td>5092</td>\n",
              "      <td>Airport</td>\n",
              "      <td>Unknown</td>\n",
              "      <td>No Cars Available</td>\n",
              "      <td>19</td>\n",
              "      <td>NA</td>\n",
              "      <td>Thursday</td>\n",
              "      <td>2016-07-14</td>\n",
              "      <td>Late Evening</td>\n",
              "      <td>NA</td>\n",
              "    </tr>\n",
              "    <tr>\n",
              "      <th>2535</th>\n",
              "      <td>5825</td>\n",
              "      <td>Airport</td>\n",
              "      <td>267.0</td>\n",
              "      <td>Trip Completed</td>\n",
              "      <td>8</td>\n",
              "      <td>9.0</td>\n",
              "      <td>Friday</td>\n",
              "      <td>2016-07-15</td>\n",
              "      <td>Early Morning</td>\n",
              "      <td>1.0</td>\n",
              "    </tr>\n",
              "    <tr>\n",
              "      <th>4279</th>\n",
              "      <td>767</td>\n",
              "      <td>City</td>\n",
              "      <td>Unknown</td>\n",
              "      <td>No Cars Available</td>\n",
              "      <td>16</td>\n",
              "      <td>NA</td>\n",
              "      <td>Monday</td>\n",
              "      <td>2016-11-07</td>\n",
              "      <td>Noon</td>\n",
              "      <td>NA</td>\n",
              "    </tr>\n",
              "    <tr>\n",
              "      <th>2882</th>\n",
              "      <td>4580</td>\n",
              "      <td>City</td>\n",
              "      <td>16.0</td>\n",
              "      <td>Cancelled</td>\n",
              "      <td>9</td>\n",
              "      <td>NA</td>\n",
              "      <td>Thursday</td>\n",
              "      <td>2016-07-14</td>\n",
              "      <td>Early Morning</td>\n",
              "      <td>NA</td>\n",
              "    </tr>\n",
              "    <tr>\n",
              "      <th>3589</th>\n",
              "      <td>2119</td>\n",
              "      <td>City</td>\n",
              "      <td>181.0</td>\n",
              "      <td>Cancelled</td>\n",
              "      <td>16</td>\n",
              "      <td>NA</td>\n",
              "      <td>Wednesday</td>\n",
              "      <td>2016-12-07</td>\n",
              "      <td>Noon</td>\n",
              "      <td>NA</td>\n",
              "    </tr>\n",
              "    <tr>\n",
              "      <th>3116</th>\n",
              "      <td>5644</td>\n",
              "      <td>City</td>\n",
              "      <td>70.0</td>\n",
              "      <td>Cancelled</td>\n",
              "      <td>6</td>\n",
              "      <td>NA</td>\n",
              "      <td>Friday</td>\n",
              "      <td>2016-07-15</td>\n",
              "      <td>Early Morning</td>\n",
              "      <td>NA</td>\n",
              "    </tr>\n",
              "    <tr>\n",
              "      <th>4962</th>\n",
              "      <td>2409</td>\n",
              "      <td>Airport</td>\n",
              "      <td>Unknown</td>\n",
              "      <td>No Cars Available</td>\n",
              "      <td>20</td>\n",
              "      <td>NA</td>\n",
              "      <td>Wednesday</td>\n",
              "      <td>2016-12-07</td>\n",
              "      <td>Late Evening</td>\n",
              "      <td>NA</td>\n",
              "    </tr>\n",
              "    <tr>\n",
              "      <th>5492</th>\n",
              "      <td>3816</td>\n",
              "      <td>Airport</td>\n",
              "      <td>Unknown</td>\n",
              "      <td>No Cars Available</td>\n",
              "      <td>21</td>\n",
              "      <td>NA</td>\n",
              "      <td>Wednesday</td>\n",
              "      <td>2016-07-13</td>\n",
              "      <td>Late Evening</td>\n",
              "      <td>NA</td>\n",
              "    </tr>\n",
              "    <tr>\n",
              "      <th>3241</th>\n",
              "      <td>2459</td>\n",
              "      <td>Airport</td>\n",
              "      <td>101.0</td>\n",
              "      <td>Cancelled</td>\n",
              "      <td>20</td>\n",
              "      <td>NA</td>\n",
              "      <td>Wednesday</td>\n",
              "      <td>2016-12-07</td>\n",
              "      <td>Late Evening</td>\n",
              "      <td>NA</td>\n",
              "    </tr>\n",
              "    <tr>\n",
              "      <th>3191</th>\n",
              "      <td>432</td>\n",
              "      <td>City</td>\n",
              "      <td>89.0</td>\n",
              "      <td>Cancelled</td>\n",
              "      <td>8</td>\n",
              "      <td>NA</td>\n",
              "      <td>Monday</td>\n",
              "      <td>2016-11-07</td>\n",
              "      <td>Early Morning</td>\n",
              "      <td>NA</td>\n",
              "    </tr>\n",
              "  </tbody>\n",
              "</table>\n",
              "</div>\n",
              "    <div class=\"colab-df-buttons\">\n",
              "\n",
              "  <div class=\"colab-df-container\">\n",
              "    <button class=\"colab-df-convert\" onclick=\"convertToInteractive('df-02c5f31b-3131-46e1-a287-9c6ddfbfbe51')\"\n",
              "            title=\"Convert this dataframe to an interactive table.\"\n",
              "            style=\"display:none;\">\n",
              "\n",
              "  <svg xmlns=\"http://www.w3.org/2000/svg\" height=\"24px\" viewBox=\"0 -960 960 960\">\n",
              "    <path d=\"M120-120v-720h720v720H120Zm60-500h600v-160H180v160Zm220 220h160v-160H400v160Zm0 220h160v-160H400v160ZM180-400h160v-160H180v160Zm440 0h160v-160H620v160ZM180-180h160v-160H180v160Zm440 0h160v-160H620v160Z\"/>\n",
              "  </svg>\n",
              "    </button>\n",
              "\n",
              "  <style>\n",
              "    .colab-df-container {\n",
              "      display:flex;\n",
              "      gap: 12px;\n",
              "    }\n",
              "\n",
              "    .colab-df-convert {\n",
              "      background-color: #E8F0FE;\n",
              "      border: none;\n",
              "      border-radius: 50%;\n",
              "      cursor: pointer;\n",
              "      display: none;\n",
              "      fill: #1967D2;\n",
              "      height: 32px;\n",
              "      padding: 0 0 0 0;\n",
              "      width: 32px;\n",
              "    }\n",
              "\n",
              "    .colab-df-convert:hover {\n",
              "      background-color: #E2EBFA;\n",
              "      box-shadow: 0px 1px 2px rgba(60, 64, 67, 0.3), 0px 1px 3px 1px rgba(60, 64, 67, 0.15);\n",
              "      fill: #174EA6;\n",
              "    }\n",
              "\n",
              "    .colab-df-buttons div {\n",
              "      margin-bottom: 4px;\n",
              "    }\n",
              "\n",
              "    [theme=dark] .colab-df-convert {\n",
              "      background-color: #3B4455;\n",
              "      fill: #D2E3FC;\n",
              "    }\n",
              "\n",
              "    [theme=dark] .colab-df-convert:hover {\n",
              "      background-color: #434B5C;\n",
              "      box-shadow: 0px 1px 3px 1px rgba(0, 0, 0, 0.15);\n",
              "      filter: drop-shadow(0px 1px 2px rgba(0, 0, 0, 0.3));\n",
              "      fill: #FFFFFF;\n",
              "    }\n",
              "  </style>\n",
              "\n",
              "    <script>\n",
              "      const buttonEl =\n",
              "        document.querySelector('#df-02c5f31b-3131-46e1-a287-9c6ddfbfbe51 button.colab-df-convert');\n",
              "      buttonEl.style.display =\n",
              "        google.colab.kernel.accessAllowed ? 'block' : 'none';\n",
              "\n",
              "      async function convertToInteractive(key) {\n",
              "        const element = document.querySelector('#df-02c5f31b-3131-46e1-a287-9c6ddfbfbe51');\n",
              "        const dataTable =\n",
              "          await google.colab.kernel.invokeFunction('convertToInteractive',\n",
              "                                                    [key], {});\n",
              "        if (!dataTable) return;\n",
              "\n",
              "        const docLinkHtml = 'Like what you see? Visit the ' +\n",
              "          '<a target=\"_blank\" href=https://colab.research.google.com/notebooks/data_table.ipynb>data table notebook</a>'\n",
              "          + ' to learn more about interactive tables.';\n",
              "        element.innerHTML = '';\n",
              "        dataTable['output_type'] = 'display_data';\n",
              "        await google.colab.output.renderOutput(dataTable, element);\n",
              "        const docLink = document.createElement('div');\n",
              "        docLink.innerHTML = docLinkHtml;\n",
              "        element.appendChild(docLink);\n",
              "      }\n",
              "    </script>\n",
              "  </div>\n",
              "\n",
              "\n",
              "<div id=\"df-2d6c89b8-8f3f-4822-b0b7-0fb91ac899de\">\n",
              "  <button class=\"colab-df-quickchart\" onclick=\"quickchart('df-2d6c89b8-8f3f-4822-b0b7-0fb91ac899de')\"\n",
              "            title=\"Suggest charts.\"\n",
              "            style=\"display:none;\">\n",
              "\n",
              "<svg xmlns=\"http://www.w3.org/2000/svg\" height=\"24px\"viewBox=\"0 0 24 24\"\n",
              "     width=\"24px\">\n",
              "    <g>\n",
              "        <path d=\"M19 3H5c-1.1 0-2 .9-2 2v14c0 1.1.9 2 2 2h14c1.1 0 2-.9 2-2V5c0-1.1-.9-2-2-2zM9 17H7v-7h2v7zm4 0h-2V7h2v10zm4 0h-2v-4h2v4z\"/>\n",
              "    </g>\n",
              "</svg>\n",
              "  </button>\n",
              "\n",
              "<style>\n",
              "  .colab-df-quickchart {\n",
              "      --bg-color: #E8F0FE;\n",
              "      --fill-color: #1967D2;\n",
              "      --hover-bg-color: #E2EBFA;\n",
              "      --hover-fill-color: #174EA6;\n",
              "      --disabled-fill-color: #AAA;\n",
              "      --disabled-bg-color: #DDD;\n",
              "  }\n",
              "\n",
              "  [theme=dark] .colab-df-quickchart {\n",
              "      --bg-color: #3B4455;\n",
              "      --fill-color: #D2E3FC;\n",
              "      --hover-bg-color: #434B5C;\n",
              "      --hover-fill-color: #FFFFFF;\n",
              "      --disabled-bg-color: #3B4455;\n",
              "      --disabled-fill-color: #666;\n",
              "  }\n",
              "\n",
              "  .colab-df-quickchart {\n",
              "    background-color: var(--bg-color);\n",
              "    border: none;\n",
              "    border-radius: 50%;\n",
              "    cursor: pointer;\n",
              "    display: none;\n",
              "    fill: var(--fill-color);\n",
              "    height: 32px;\n",
              "    padding: 0;\n",
              "    width: 32px;\n",
              "  }\n",
              "\n",
              "  .colab-df-quickchart:hover {\n",
              "    background-color: var(--hover-bg-color);\n",
              "    box-shadow: 0 1px 2px rgba(60, 64, 67, 0.3), 0 1px 3px 1px rgba(60, 64, 67, 0.15);\n",
              "    fill: var(--button-hover-fill-color);\n",
              "  }\n",
              "\n",
              "  .colab-df-quickchart-complete:disabled,\n",
              "  .colab-df-quickchart-complete:disabled:hover {\n",
              "    background-color: var(--disabled-bg-color);\n",
              "    fill: var(--disabled-fill-color);\n",
              "    box-shadow: none;\n",
              "  }\n",
              "\n",
              "  .colab-df-spinner {\n",
              "    border: 2px solid var(--fill-color);\n",
              "    border-color: transparent;\n",
              "    border-bottom-color: var(--fill-color);\n",
              "    animation:\n",
              "      spin 1s steps(1) infinite;\n",
              "  }\n",
              "\n",
              "  @keyframes spin {\n",
              "    0% {\n",
              "      border-color: transparent;\n",
              "      border-bottom-color: var(--fill-color);\n",
              "      border-left-color: var(--fill-color);\n",
              "    }\n",
              "    20% {\n",
              "      border-color: transparent;\n",
              "      border-left-color: var(--fill-color);\n",
              "      border-top-color: var(--fill-color);\n",
              "    }\n",
              "    30% {\n",
              "      border-color: transparent;\n",
              "      border-left-color: var(--fill-color);\n",
              "      border-top-color: var(--fill-color);\n",
              "      border-right-color: var(--fill-color);\n",
              "    }\n",
              "    40% {\n",
              "      border-color: transparent;\n",
              "      border-right-color: var(--fill-color);\n",
              "      border-top-color: var(--fill-color);\n",
              "    }\n",
              "    60% {\n",
              "      border-color: transparent;\n",
              "      border-right-color: var(--fill-color);\n",
              "    }\n",
              "    80% {\n",
              "      border-color: transparent;\n",
              "      border-right-color: var(--fill-color);\n",
              "      border-bottom-color: var(--fill-color);\n",
              "    }\n",
              "    90% {\n",
              "      border-color: transparent;\n",
              "      border-bottom-color: var(--fill-color);\n",
              "    }\n",
              "  }\n",
              "</style>\n",
              "\n",
              "  <script>\n",
              "    async function quickchart(key) {\n",
              "      const quickchartButtonEl =\n",
              "        document.querySelector('#' + key + ' button');\n",
              "      quickchartButtonEl.disabled = true;  // To prevent multiple clicks.\n",
              "      quickchartButtonEl.classList.add('colab-df-spinner');\n",
              "      try {\n",
              "        const charts = await google.colab.kernel.invokeFunction(\n",
              "            'suggestCharts', [key], {});\n",
              "      } catch (error) {\n",
              "        console.error('Error during call to suggestCharts:', error);\n",
              "      }\n",
              "      quickchartButtonEl.classList.remove('colab-df-spinner');\n",
              "      quickchartButtonEl.classList.add('colab-df-quickchart-complete');\n",
              "    }\n",
              "    (() => {\n",
              "      let quickchartButtonEl =\n",
              "        document.querySelector('#df-2d6c89b8-8f3f-4822-b0b7-0fb91ac899de button');\n",
              "      quickchartButtonEl.style.display =\n",
              "        google.colab.kernel.accessAllowed ? 'block' : 'none';\n",
              "    })();\n",
              "  </script>\n",
              "</div>\n",
              "    </div>\n",
              "  </div>\n"
            ]
          },
          "metadata": {},
          "execution_count": 14
        }
      ],
      "source": [
        "# Checking all changes applied or not\n",
        "df.sample(10)"
      ]
    },
    {
      "cell_type": "markdown",
      "metadata": {
        "id": "7jDP0LpM4h9R"
      },
      "source": [
        "# Visual Analysis"
      ]
    },
    {
      "cell_type": "code",
      "source": [
        "# Piechart for Percent of ride completed , cancelled and car not available\n",
        "custom_palette = {\n",
        "    \"Cancelled\": \"#FF4040\",\n",
        "    \"No Cars Available\": \"#333333\",\n",
        "    \"Trip Completed\": \"#4CAF50\"\n",
        "}\n",
        "\n",
        "labels = ['Trip Completed', 'Cancelled', 'No Cars Available']\n",
        "sizes = [len(df[df['Status'] == 'Trip Completed']),\n",
        "         len(df[df['Status'] == 'Cancelled']),\n",
        "         len(df[df['Status'] == 'No Cars Available'])]\n",
        "\n",
        "colors = [custom_palette[status] for status in labels]\n",
        "\n",
        "plt.figure(figsize=(6, 6))\n",
        "plt.pie(sizes, labels=labels, colors=colors, autopct='%1.1f%%', startangle=140)\n",
        "plt.title(\"Distribution of Ride Status\")\n",
        "plt.show()\n"
      ],
      "metadata": {
        "colab": {
          "base_uri": "https://localhost:8080/",
          "height": 521
        },
        "id": "c2-ajv_2idKz",
        "outputId": "0d214fa3-ec01-486b-9cca-5fd8ebc612be"
      },
      "execution_count": 15,
      "outputs": [
        {
          "output_type": "display_data",
          "data": {
            "text/plain": [
              "<Figure size 600x600 with 1 Axes>"
            ],
            "image/png": "[encoded data removed]"
          },
          "metadata": {}
        }
      ]
    },
    {
      "cell_type": "markdown",
      "metadata": {
        "id": "8ISNtsb242AA"
      },
      "source": [
        "Only 42% of the requested ride get completed:\n",
        "\n",
        "This is bad for any buisness if they can only fullfill 42% of their demands.\n",
        "\n",
        "High Percentage of No Cars Available (39.3%):\n",
        "\n",
        "Driver Supply: Insufficient driver availability, especially during peak hours or in high-demand areas, can lead to this issue.\n",
        "\n",
        "Geographical Factors: Geographical constraints or traffic patterns could affect driver distribution, leading to periods of unavailability.\n",
        "\n",
        "Technical Issues: Problems with the app or dispatching system can sometimes cause temporary unavailability.\n",
        "\n",
        "Moderate Percentage of Cancelled Rides (18.7%):\n",
        "\n",
        "User Cancels: Some customers may cancel rides after booking for various reasons, such as a change in plans, long wait times, or dissatisfaction with estimated fares.\n",
        "\n",
        "Driver Cancels: Drivers may also cancel rides after accepting, possibly due to traffic, a change in their availability, or other factors."
      ]
    },
    {
      "cell_type": "code",
      "execution_count": 16,
      "metadata": {
        "colab": {
          "base_uri": "https://localhost:8080/",
          "height": 564
        },
        "id": "rCN3Lo09Di_a",
        "outputId": "3327f4f5-97d8-433c-9754-89e9f6a21888"
      },
      "outputs": [
        {
          "output_type": "display_data",
          "data": {
            "text/plain": [
              "<Figure size 1500x600 with 1 Axes>"
            ],
            "image/png": "[encoded data removed]"
          },
          "metadata": {}
        }
      ],
      "source": [
        "# Create a count plot\n",
        "plt.figure(figsize=(15, 6))\n",
        "sns.countplot(data=df, x='Day of week', palette=custom_palette, hue='Status')\n",
        "plt.xlabel('Days')\n",
        "plt.ylabel('Count')\n",
        "plt.title('Ride requested by Days')\n",
        "\n",
        "plt.show()\n"
      ]
    },
    {
      "cell_type": "markdown",
      "metadata": {
        "id": "lCQZOYwCEsY2"
      },
      "source": [
        "This data only have monday, wednesday, thursday, friday data.\n",
        "\n",
        "On wednesday there are clearly more ride requested than any other day and so on wednesday the number of cancelled ride and no car availablity is also high.\n",
        "This can be due to more flight landing or departuring that day."
      ]
    },
    {
      "cell_type": "code",
      "execution_count": 17,
      "metadata": {
        "id": "c7J0-k0_L-dH"
      },
      "outputs": [],
      "source": [
        "not_available_or_cancelled_df=df[df[\"Status\"] != \"Trip Completed\"]"
      ]
    },
    {
      "cell_type": "code",
      "source": [
        "# Displaying request placed every are and there status\n",
        "light_palette = sns.color_palette(\"pastel\")\n",
        "\n",
        "# Group the data and create a stacked bar plot\n",
        "df.groupby(['Request hour', 'Status']).size().unstack().plot(kind='bar', stacked=True, figsize=(15, 6), color=custom_palette)\n",
        "\n",
        "plt.title('Frequency of Requests by Hour')\n",
        "plt.xlabel('Hour of the Day')\n",
        "plt.ylabel('Frequency')\n",
        "plt.show()\n"
      ],
      "metadata": {
        "colab": {
          "base_uri": "https://localhost:8080/",
          "height": 568
        },
        "id": "lN-XmdW5e7od",
        "outputId": "ecdf7b3d-f5e7-45f9-a7b8-b6d13d5a01a4"
      },
      "execution_count": 18,
      "outputs": [
        {
          "output_type": "display_data",
          "data": {
            "text/plain": [
              "<Figure size 1500x600 with 1 Axes>"
            ],
            "image/png": "[encoded data removed]"
          },
          "metadata": {}
        }
      ]
    },
    {
      "cell_type": "markdown",
      "source": [
        "Low ride requested between 0 to 3 at night and 11 to 16 in day\n",
        "High demand in ride between 4 to 10 in morning and 17 to 23 in evening and night.\n",
        "lets futher anlysis it with respect to timeslot and pickup points."
      ],
      "metadata": {
        "id": "6_IiRjPufPA6"
      }
    },
    {
      "cell_type": "code",
      "source": [
        "# pie chart sowing percent of ride cancelled and car not available by timeslot\n",
        "timeslot_colors = {\n",
        "    'Dawn': (0.8, 0.6, 0.7),\n",
        "    'Early Morning': (0.53, 0.81, 0.98),\n",
        "    'Noon': (1.0, 0.84, 0.0),\n",
        "    'Late Evening': (0.58, 0.44, 0.86),\n",
        "    'Night': (0.0, 0.0, 0.4)\n",
        "}\n",
        "\n",
        "colors = [timeslot_colors[slot] for slot in not_available_or_cancelled_df.groupby(['TimeSlot']).size().index]\n",
        "\n",
        "plt.figure(figsize=(6, 5))\n",
        "plt.pie(not_available_or_cancelled_df.groupby(['TimeSlot']).size(), labels=not_available_or_cancelled_df.groupby(['TimeSlot']).size().index, autopct='%1.1f%%', startangle=140, colors=colors)\n",
        "plt.title('Car not available or cancelled by TimeSlot')\n",
        "plt.show()\n"
      ],
      "metadata": {
        "colab": {
          "base_uri": "https://localhost:8080/",
          "height": 444
        },
        "id": "_FgVYznme8b_",
        "outputId": "1f9d3690-86ce-4a5b-ff21-7d3abf16b776"
      },
      "execution_count": 19,
      "outputs": [
        {
          "output_type": "display_data",
          "data": {
            "text/plain": [
              "<Figure size 600x500 with 1 Axes>"
            ],
            "image/png": "[encoded data removed]"
          },
          "metadata": {}
        }
      ]
    },
    {
      "cell_type": "markdown",
      "metadata": {
        "id": "wD1DUmq4Ih4-"
      },
      "source": [
        "In early morning and late evening it is difficult to get cab as there is most number of  cancellation and non availability is around these two timeslots.\n",
        "\n",
        "Rush Hours: Early morning and late evening often coincide with rush hours when people are commuting to and from work. This can lead to increased demand for cabs, making it more challenging to find available drivers.\n",
        "\n",
        "More Flights : Usually people take early flights to attend meeting and in evening there are more returning flight. This\n",
        "could be reason reason of high demand at these times that cannot be fullfilled.\n",
        "\n",
        "\n",
        "Driver Shift Change: Some drivers might change shifts during these times, leading to a temporary decrease in the number of available drivers.\n",
        "\n",
        "Traffic Congestion: During rush hours, traffic congestion can be significant. This can cause delays for both passengers and drivers, leading to trip cancellations and longer waiting times.\n",
        "\n",
        "Limited Availability: If there are fewer drivers available during these times due to shift changes or other reasons, it can result in higher cancellation rates and non-availability.\n",
        "\n",
        "Supply-Demand Imbalance: The number of ride requests may significantly exceed the available drivers during these peak hours, leading to unmet demand.\n",
        "\n",
        "Safety Concerns: In some areas, there might be safety concerns during the early morning or late evening, which could affect driver availability and passenger demand.\n",
        "\n"
      ]
    },
    {
      "cell_type": "code",
      "execution_count": 20,
      "metadata": {
        "colab": {
          "base_uri": "https://localhost:8080/",
          "height": 564
        },
        "id": "QL7eNJi9QV4_",
        "outputId": "c02a4347-3cb5-4dba-e3a2-c4d97985b921"
      },
      "outputs": [
        {
          "output_type": "display_data",
          "data": {
            "text/plain": [
              "<Figure size 1500x600 with 1 Axes>"
            ],
            "image/png": "[encoded data removed]"
          },
          "metadata": {}
        }
      ],
      "source": [
        "# Plotting countplot to get a picture of cancelled or not availability on pickup points\n",
        "plt.figure(figsize=(15, 6))\n",
        "\n",
        "pastel_palette = sns.color_palette(\"pastel\")\n",
        "\n",
        "sns.countplot(data=not_available_or_cancelled_df, x='Pickup point', hue='Status', palette=custom_palette)\n",
        "plt.xlabel('Pickup point')\n",
        "plt.ylabel('Count')\n",
        "plt.title('Count of Status by Pickup point')\n",
        "plt.legend(title='Status', loc='upper right')\n",
        "plt.show()"
      ]
    },
    {
      "cell_type": "markdown",
      "metadata": {
        "id": "tBZ0k61XWECJ"
      },
      "source": [
        "More Cancelled Trips from City to Airport:\n",
        "\n",
        "The data indicates that there are more cancelled trips when the rides originate in the City and are destined for the Airport.\n",
        "\n",
        "This could be due to several reasons, such as passengers changing their travel plans, the unavailability of drivers willing to go to the Airport, or other factors specific to the City-to-Airport route.\n",
        "\n",
        "To address this issue, the ride-hailing service may consider implementing measures to reduce cancellations, such as offering incentives to drivers for accepting Airport-bound trips or improving communication with passengers.\n",
        "\n",
        "More \"No Cabs Found\" from Airport to City:\n",
        "\n",
        "Conversely, the analysis shows that there are more instances where passengers are unable to find available cabs when their rides originate at the Airport and are headed to the City.\n",
        "\n",
        "This situation could arise due to a shortage of available drivers near the Airport or during specific time periods when demand outstrips supply.\n",
        "\n",
        "To improve service in this direction, the ride-hailing service may need to incentivize drivers to be present at the Airport during peak demand hours or employ dynamic pricing to encourage more drivers to serve this route when needed.\n",
        "\n",
        "Lets analysis this further with respect to time."
      ]
    },
    {
      "cell_type": "code",
      "source": [
        "custom_palette = {\n",
        "    \"Cancelled\": \"#FF4040\",\n",
        "    \"No Cars Available\": \"#333333\",\n",
        "    \"Trip Completed\": \"#4CAF50\"\n",
        "}\n",
        "\n",
        "#stacked bar plot\n",
        "df.groupby(['TimeSlot', 'Status']).size().unstack().loc[:, custom_palette.keys()].plot(kind='bar', stacked=True, figsize=(15, 6), color=[custom_palette[col] for col in custom_palette.keys()])\n",
        "\n",
        "plt.title('Time slots where the highest gap exists')\n",
        "plt.xlabel('Time Slot')\n",
        "plt.ylabel('Frequency')\n",
        "plt.legend(title='Status')\n",
        "plt.show()\n"
      ],
      "metadata": {
        "colab": {
          "base_uri": "https://localhost:8080/",
          "height": 646
        },
        "id": "_gz3Tmt7Z2io",
        "outputId": "0391564d-b735-4450-85e1-3aec21277f64"
      },
      "execution_count": 21,
      "outputs": [
        {
          "output_type": "display_data",
          "data": {
            "text/plain": [
              "<Figure size 1500x600 with 1 Axes>"
            ],
            "image/png": "[encoded data removed]"
          },
          "metadata": {}
        }
      ]
    },
    {
      "cell_type": "markdown",
      "source": [
        "Demand of cab is at peak in Early morning and late evenings.\n"
      ],
      "metadata": {
        "id": "_d70i0cXaPeR"
      }
    },
    {
      "cell_type": "code",
      "source": [
        "# a stacked bar plot\n",
        "df[df['Pickup point'] == 'City'].groupby(['Request hour', 'Status']).size().unstack().plot(kind='bar', stacked=True, figsize=(15, 6), color=[custom_palette[col] for col in custom_palette.keys()])\n",
        "\n",
        "plt.title('Demand-Supply Gap from Airport to City')\n",
        "plt.xlabel('Request Hour')\n",
        "plt.ylabel('Frequency')\n",
        "plt.legend(title='Status')\n",
        "plt.show()\n"
      ],
      "metadata": {
        "colab": {
          "base_uri": "https://localhost:8080/",
          "height": 568
        },
        "id": "tCT9WtUWbWrM",
        "outputId": "8522d066-65cb-4479-c75e-1e732339d8b0"
      },
      "execution_count": 22,
      "outputs": [
        {
          "output_type": "display_data",
          "data": {
            "text/plain": [
              "<Figure size 1500x600 with 1 Axes>"
            ],
            "image/png": "[encoded data removed]"
          },
          "metadata": {}
        }
      ]
    },
    {
      "cell_type": "markdown",
      "source": [
        "High cancellation in morning:\n",
        "\n",
        "Insufficient Supply: There might not be enough drivers available during the high-demand hours (4 to 10). When the demand exceeds the supply of available drivers, customers may have a hard time getting a ride, leading to more cancellations.\n",
        "\n",
        "Driver Behavior: During peak hours, drivers may become more selective in accepting ride requests. They might cancel rides if they consider them less profitable or if the pickup location is not convenient for them.They dont want to go Airport in morning as they get more ride in city and they may have to wait at airport to get return customer.\n",
        "\n",
        "Traffic Congestion: High-demand hours often coincide with heavy traffic. If drivers anticipate that the pickup location or route will result in a long and unprofitable trip due to traffic, they may cancel the ride.\n",
        "\n",
        "User Behavior: Customers may also contribute to the higher cancellation rate during peak hours. They might request a ride impulsively and then cancel if the estimated wait time is longer than expected."
      ],
      "metadata": {
        "id": "ma0OT4Oibrvj"
      }
    },
    {
      "cell_type": "code",
      "source": [
        "# a stacked bar plot\n",
        "df[df['Pickup point'] == 'Airport'].groupby(['Request hour', 'Status']).size().unstack().plot(kind='bar', stacked=True, figsize=(15, 6), color=[custom_palette[col] for col in custom_palette.keys()])\n",
        "\n",
        "plt.title('Demand-Supply Gap from Airport to City')\n",
        "plt.xlabel('Request Hour')\n",
        "plt.ylabel('Frequency')\n",
        "plt.legend(title='Status')\n",
        "plt.show()\n"
      ],
      "metadata": {
        "colab": {
          "base_uri": "https://localhost:8080/",
          "height": 568
        },
        "id": "O-fz8Vgga7d6",
        "outputId": "3caeafc7-e31b-4aff-9bbc-08681051afcf"
      },
      "execution_count": 23,
      "outputs": [
        {
          "output_type": "display_data",
          "data": {
            "text/plain": [
              "<Figure size 1500x600 with 1 Axes>"
            ],
            "image/png": "[encoded data removed]"
          },
          "metadata": {}
        }
      ]
    },
    {
      "cell_type": "markdown",
      "source": [
        "No cars Available at airport from 17 to 22 in late evening:\n",
        "\n",
        "Low number of cab booked for airport at noon: As we saw last graph were pickup point was city there are very few number of cab request in noon from city to airport so this can be a reason for very few ride available at airport during this time.\n",
        "\n",
        "Peak Hours: Late evenings, especially around flight arrival times, can be peak hours for airport rides. If there is a sudden surge in demand and not enough drivers are available, it can lead to non-availability.\n",
        "\n",
        "Traffic Congestion: Late evening traffic congestion around the airport can make it challenging for drivers to reach the pickup points, leading to delays and non-availability\n",
        "\n",
        "Driver Preferences: Some drivers might prefer not to pick up passengers from the airport due to long waiting times at the pickup area."
      ],
      "metadata": {
        "id": "P3w_EjTzf0Uu"
      }
    },
    {
      "cell_type": "markdown",
      "source": [
        "## Problem 1: Cancellation in Morning\n",
        "\n",
        "Reasons:\n",
        "\n",
        "Driver Behavior at Peak Hours:\n",
        "\n",
        "During Early mprnings, there's a significant surge in demand for rides from city to airport or other places. However, some drivers may choose to avoid  pickups at certain location during these peak hours. They might prefer shorter, more frequent trips within the city, as these tend to be more lucrative and involve less idle time. This behavior can result in high cancellation precisely when they are in high demand.\n",
        "\n",
        "Return Journey Considerations:\n",
        "\n",
        "When drivers take passengers from the city to the airport, they often face longer travel times due to traffic or distance. Once they arrive at the airport, they might encounter extended idle periods, waiting for flights to land and passengers to request rides. This prolonged idle time can be less financially attractive for drivers compared to consecutive, shorter city trips\n",
        "\n",
        "Soultions:\n",
        "\n",
        "Dynamic Pricing to Encourage Airport Rides:\n",
        "\n",
        "One effective approach is to implement dynamic pricing strategies. By increasing the cost of rides from the city to the airport during morning hours, drivers can potentially earn more during these longer trips. This pricing adjustment aligns driver earnings with the extended travel times and can incentivize them to accept airport-bound passengers.\n",
        "\n",
        "Driver Incentive Program:\n",
        "\n",
        "To further encourage drivers to prioritize trips from the city to the airport, consider implementing a driver incentive program. In this program, drivers set a specific target for the number of airport rides they aim to complete within a defined time frame. Upon reaching this target, drivers are rewarded with incentives such as discounts, coupons, or additional earnings for these trips. This approach not only motivates drivers but also enhances the availability of rides from the city to the airport, ensuring a smoother experience for passengers.\n",
        "\n",
        "No or Low Cancellation Bonus:\n",
        "\n",
        "Bonus to driver whose cancellation rate per month is lower than 2-3%. These type of scheme can encourge driver to accept more ride.\n"
      ],
      "metadata": {
        "id": "PodMxHPMl9iq"
      }
    },
    {
      "cell_type": "markdown",
      "source": [
        "## Problem 2: No Cars Available at Late Evenings\n",
        "\n",
        "Reasons:\n",
        "\n",
        "Low number of driver near airport:\n",
        "\n",
        "As there are very few ride ride requested in noon this can cause no cars available problem at late evenings at airport as driver may go back home to take rest and few those are available are are busy city  rides.\n",
        "\n",
        "Hight demand:\n",
        "\n",
        "The demand is at peak in late evening this can be also a reason.\n",
        "\n",
        "Waiting time:\n",
        "\n",
        " Some drivers might prefer not to pick up passengers from the airport due to long waiting times at the pickup area.\n",
        "\n",
        " Solutions:\n",
        "\n",
        " Free or low price and resting place for driver:\n",
        "\n",
        " As they is long waiting period at airport so free or low priced food and resting area for drivers waiting there can encourage driver to stay near airport during late evening.\n",
        "\n",
        " Incentivizing drivers:\n",
        "\n",
        " To tackle the challenges encountered during the evening hours for airport-to-city rides, a strategic approach involves incentivizing drivers to remain accessible for such trips. An effective solution is to introduce premium pricing or rewards tailored explicitly for rides originating from the airport to the city during the late evening. By offering attractive incentives during this timeframe, it is anticipated that a larger pool of drivers will choose to remain active, ensuring better availability for passengers seeking transportation from the airport to the city. This approach aligns driver incentives with passenger demand, ultimately enhancing the overall service experience\n",
        "\n"
      ],
      "metadata": {
        "id": "s8LnoatUqs2v"
      }
    },
    {
      "cell_type": "markdown",
      "source": [
        "## Solution for cancellation and non availibility at other timeslots.\n",
        "\n",
        "Rider Accountability:\n",
        "\n",
        "Cancellable Rides: Implement a fair policy for cancellations. Riders who cancel frequently without valid reasons could face penalties such as temporary suspension or higher cancellation fees.\n",
        "Scheduled Rides: Encourage riders to book their trips in advance, reducing the likelihood of last-minute cancellations and ensuring drivers are prepared for the requested rides.\n",
        "\n",
        "\n",
        "Improving Communication:\n",
        "\n",
        "Real-time Notifications: Keep both drivers and riders informed about each other's location and estimated arrival times. Enhanced communication can help prevent misunderstandings and reduce cancellations.\n",
        "\n",
        "Feedback Loop: Establish a feedback loop where drivers and riders can rate and provide feedback about each other. This can help identify problematic users and address issues promptly."
      ],
      "metadata": {
        "id": "do0QQZevxJo2"
      }
    },
    {
      "cell_type": "code",
      "source": [
        "# Calculate the counts before solution\n",
        "before_can = df[df[\"Status\"] == \"Cancelled\"].count()[0]\n",
        "before_nocar = df[df[\"Status\"] == \"No Cars Available\"].count()[0]\n",
        "\n",
        "# Calculate the counts after making changes\n",
        "after_can = before_can - df[(df[\"Status\"] == \"Cancelled\") & (df[\"TimeSlot\"] == \"Early Morning\")].count()[0]\n",
        "after_nocar = before_nocar - df[(df[\"Status\"] == \"No Cars Available\") & (df[\"TimeSlot\"] == \"Late Evening\")].count()[0]\n",
        "\n",
        "# Calculate the percentage reduction\n",
        "percentage_can_reduction = ((before_can - after_can) / before_can) * 100\n",
        "percentage_nocar_reduction = ((before_nocar - after_nocar) / before_nocar) * 100\n",
        "\n",
        "# Print the results\n",
        "print(f\"Percentage Reduction in Cancellations: {percentage_can_reduction:.2f}%\")\n",
        "print(f\"Percentage Reduction in Non-Availability: {percentage_nocar_reduction:.2f}%\")\n"
      ],
      "metadata": {
        "colab": {
          "base_uri": "https://localhost:8080/"
        },
        "id": "5zmSxXtoNWRv",
        "outputId": "843fb9af-7ab9-4138-a767-2d9d71279ab2"
      },
      "execution_count": 24,
      "outputs": [
        {
          "output_type": "stream",
          "name": "stdout",
          "text": [
            "Percentage Reduction in Cancellations: 66.69%\n",
            "Percentage Reduction in Non-Availability: 52.53%\n"
          ]
        }
      ]
    },
    {
      "cell_type": "markdown",
      "source": [
        "## Conclusion\n",
        "\n",
        " By solving problem 1 and 2\n",
        "\n",
        " Cancellation can be reduced by 66.9%.\n",
        "\n",
        " Non-Availbility of Cars can be reduced by 52.53%.\n"
      ],
      "metadata": {
        "id": "bwrbJA_evoB-"
      }
    }
  ],
  "metadata": {
    "colab": {
      "provenance": []
    },
    "kernelspec": {
      "display_name": "Python 3",
      "name": "python3"
    },
    "language_info": {
      "name": "python"
    }
  },
  "nbformat": 4,
  "nbformat_minor": 0
}